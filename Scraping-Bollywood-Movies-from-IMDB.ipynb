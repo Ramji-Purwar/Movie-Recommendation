{
 "cells": [
  {
   "cell_type": "code",
   "execution_count": null,
   "id": "678d38af",
   "metadata": {},
   "outputs": [],
   "source": [
    "import pandas as pd\n",
    "import requests\n",
    "from bs4 import BeautifulSoup\n",
    "import numpy as np\n",
    "import re"
   ]
  },
  {
   "cell_type": "code",
   "execution_count": null,
   "id": "7f6de4fa",
   "metadata": {},
   "outputs": [],
   "source": [
    "root = 'https://www.imdb.com/search/title/?title_type=feature&countries=in&languages=hi&start='\n",
    "movie_id = []\n",
    "movie_name = []\n",
    "year = []\n",
    "genre = []\n",
    "overview = []\n",
    "director = []\n",
    "cast = []"
   ]
  },
  {
   "cell_type": "code",
   "execution_count": null,
   "id": "2c7d51b6",
   "metadata": {},
   "outputs": [],
   "source": [
    "for pages in range(1, 2200, 50):\n",
    "    html = requests.get(root + str(pages) + '&ref_=adv_nxt')\n",
    "    soup = BeautifulSoup(html.content, 'html.parser')\n",
    "    \n",
    "    movie_data = soup.findAll('div', attrs = {'class': 'lister-item mode-advanced'})\n",
    "    \n",
    "    for store in movie_data:\n",
    "        name = store.h3.a.text\n",
    "        movie_name.append(name)\n",
    "\n",
    "        id_var = store.find('div', class_ = 'lister-item-image float-left').find('img')\n",
    "        tconst = id_var.get('data-tconst')\n",
    "        movie_id.append(tconst)\n",
    "        \n",
    "        year_of_release = store.h3.find('span', class_ = 'lister-item-year text-muted unbold').text.replace(' ', '').replace('I', '').replace('(', '').replace(')', '')\n",
    "        year.append(year_of_release)\n",
    "\n",
    "        genre_var = store.p.find('span', class_ = 'genre').text.replace('\\n', '').replace('            ', '') if store.p.find('span', class_ = 'genre') else ' '\n",
    "        genre.append(genre_var)\n",
    "\n",
    "        overview_var = store.findAll('p', attrs = {'class': 'text-muted'})\n",
    "        over = overview_var[1].text.replace('\\n', '')\n",
    "        overview.append(over)\n",
    "\n",
    "        directors_var = store.findAll('p')\n",
    "        direc = directors_var[2].text\n",
    "        for text in direc:\n",
    "            if '|' in text:\n",
    "                direct = direc.split('|')[0].replace('\\n', '').replace('Director:', '').replace('\\n', '').replace('    ', '').replace('Directors:', '')\n",
    "        director.append(direct)\n",
    "        for text in direc:\n",
    "            if '|' in text:\n",
    "                cast_var = direc.split('|')[1].replace('\\n', '').replace('Stars:', '').replace('Star:', '').replace('     ', '')\n",
    "        cast.append(cast_var)"
   ]
  },
  {
   "cell_type": "code",
   "execution_count": null,
   "id": "4b3f0c5f",
   "metadata": {},
   "outputs": [],
   "source": [
    "df = pd.DataFrame(\n",
    "    {'movie_id':movie_id,\n",
    "     'movie_name':movie_name,\n",
    "     'year':year,\n",
    "     'genre':genre,\n",
    "     'overview':overview,\n",
    "     'director':director,\n",
    "     'cast':cast,\n",
    "    })"
   ]
  },
  {
   "cell_type": "code",
   "execution_count": null,
   "id": "04b88938",
   "metadata": {},
   "outputs": [],
   "source": [
    "df.head()"
   ]
  },
  {
   "cell_type": "code",
   "execution_count": null,
   "id": "b66ae13a",
   "metadata": {},
   "outputs": [],
   "source": [
    "store.find('div', class_ = 'lister-item-image float-left').find('img')"
   ]
  },
  {
   "cell_type": "code",
   "execution_count": null,
   "id": "5bed52d5",
   "metadata": {},
   "outputs": [],
   "source": [
    "df.to_csv('Movie_Dataset.csv')"
   ]
  },
  {
   "cell_type": "code",
   "execution_count": null,
   "id": "9e1560ef",
   "metadata": {},
   "outputs": [],
   "source": []
  }
 ],
 "metadata": {
  "kernelspec": {
   "display_name": "Python 3",
   "language": "python",
   "name": "python3"
  },
  "language_info": {
   "codemirror_mode": {
    "name": "ipython",
    "version": 3
   },
   "file_extension": ".py",
   "mimetype": "text/x-python",
   "name": "python",
   "nbconvert_exporter": "python",
   "pygments_lexer": "ipython3",
   "version": "3.12.10"
  }
 },
 "nbformat": 4,
 "nbformat_minor": 5
}
