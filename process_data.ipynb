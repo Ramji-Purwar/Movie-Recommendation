{
 "cells": [
  {
   "cell_type": "markdown",
   "metadata": {},
   "source": [
    "# Movie Data Processor\n",
    "**Created by:** Ramji-Purwar  \n",
    "**Date:** 2025-05-19 15:42:57"
   ]
  },
  {
   "cell_type": "code",
   "execution_count": null,
   "metadata": {},
   "outputs": [],
   "source": [
    "import pandas as pd\n",
    "import numpy as np\n",
    "import re\n",
    "from collections import defaultdict"
   ]
  },
  {
   "cell_type": "code",
   "execution_count": null,
   "metadata": {},
   "outputs": [],
   "source": [
    "file_path = 'filtered_data.csv'\n",
    "movies_df = pd.read_csv(file_path)\n",
    "movies_df.head()"
   ]
  },
  {
   "cell_type": "markdown",
   "metadata": {},
   "source": [
    "## 1. Process Actors"
   ]
  },
  {
   "cell_type": "code",
   "execution_count": null,
   "metadata": {},
   "outputs": [],
   "source": [
    "def process_actors():\n",
    "    actor_movie_relations = []\n",
    "    \n",
    "    actor_ids = {}\n",
    "    current_actor_id = 1\n",
    "    \n",
    "    for _, movie in movies_df.iterrows():\n",
    "        movie_id = movie['movie_id']\n",
    "        \n",
    "        if pd.notna(movie['top_5_actors']):\n",
    "            actors = [actor.strip() for actor in movie['top_5_actors'].split(',')]\n",
    "            \n",
    "            for actor in actors:\n",
    "                # Assign an ID if this actor doesn't have one yet\n",
    "                if actor not in actor_ids:\n",
    "                    actor_ids[actor] = f\"act_{current_actor_id}\"\n",
    "                    current_actor_id += 1\n",
    "                    \n",
    "                # Add this actor-movie relationship\n",
    "                actor_movie_relations.append({\n",
    "                    'actor_id': actor_ids[actor],\n",
    "                    'actor_name': actor,\n",
    "                    'movie_id': movie_id\n",
    "                })\n",
    "    \n",
    "    actors_df = pd.DataFrame(list(set([(actor_ids[name], name) for name in actor_ids])), \n",
    "                           columns=['actor_id', 'actor_name'])\n",
    "    \n",
    "    actor_movies_df = pd.DataFrame(actor_movie_relations)[['actor_id', 'movie_id']]\n",
    "    \n",
    "    return actors_df, actor_movies_df"
   ]
  },
  {
   "cell_type": "code",
   "execution_count": null,
   "metadata": {},
   "outputs": [],
   "source": [
    "actors_df, actor_movies_df = process_actors()\n",
    "actor_movies_df.to_csv('actor_movies.csv', index=False)\n",
    "\n",
    "actors_df.to_csv('actors.csv', index=False)\n",
    "actor_movies_df.head()"
   ]
  },
  {
   "cell_type": "markdown",
   "metadata": {},
   "source": [
    "## 2. Process Genres"
   ]
  },
  {
   "cell_type": "code",
   "execution_count": null,
   "metadata": {},
   "outputs": [],
   "source": [
    "def process_genres():\n",
    "    genre_movie_relations = []\n",
    "    \n",
    "    all_genres = set()\n",
    "    \n",
    "    for _, movie in movies_df.iterrows():\n",
    "        movie_id = movie['movie_id']\n",
    "        \n",
    "        if pd.notna(movie['genre']):\n",
    "            genres = [genre.strip() for genre in movie['genre'].split(',')]\n",
    "            \n",
    "            for genre in genres:\n",
    "                all_genres.add(genre)\n",
    "                \n",
    "                genre_movie_relations.append({\n",
    "                    'genre': genre,\n",
    "                    'movie_id': movie_id\n",
    "                })\n",
    "    \n",
    "    genres_list = list(all_genres)\n",
    "    genres_df = pd.DataFrame({\n",
    "        'genre_id': [f\"gen_{i+1}\" for i in range(len(genres_list))],\n",
    "        'genre_name': genres_list\n",
    "    })\n",
    "    \n",
    "    genre_to_id = dict(zip(genres_df['genre_name'], genres_df['genre_id']))\n",
    "    \n",
    "    movie_genres_df = pd.DataFrame(genre_movie_relations)\n",
    "    movie_genres_df['genre_id'] = movie_genres_df['genre'].map(genre_to_id)\n",
    "    movie_genres_df = movie_genres_df[['movie_id', 'genre_id']]\n",
    "    \n",
    "    return genres_df, movie_genres_df"
   ]
  },
  {
   "cell_type": "code",
   "execution_count": null,
   "metadata": {},
   "outputs": [],
   "source": [
    "genres_df, movie_genres_df = process_genres()\n",
    "genres_df.to_csv('genres.csv', index=False)\n",
    "\n",
    "movie_genres_df.to_csv('movie_genres.csv', index=False)\n",
    "genres_df.head()"
   ]
  },
  {
   "cell_type": "markdown",
   "metadata": {},
   "source": [
    "## 3. Process Directors"
   ]
  },
  {
   "cell_type": "code",
   "execution_count": null,
   "metadata": {},
   "outputs": [],
   "source": [
    "def process_directors():\n",
    "    # Create a list to hold all director-movie relationships\n",
    "    director_movie_relations = []\n",
    "    \n",
    "    # Create a dictionary to store director IDs\n",
    "    director_ids = {}\n",
    "    current_director_id = 1\n",
    "    \n",
    "    # Process each movie\n",
    "    for _, movie in movies_df.iterrows():\n",
    "        movie_id = movie['movie_id']\n",
    "        \n",
    "        # Process the director field\n",
    "        if pd.notna(movie['director']):\n",
    "            # Handle cases where there are multiple directors\n",
    "            directors = [director.strip() for director in movie['director'].split(',')]\n",
    "            \n",
    "            for director in directors:\n",
    "                # Assign an ID if this director doesn't have one yet\n",
    "                if director not in director_ids:\n",
    "                    director_ids[director] = f\"dir_{current_director_id}\"\n",
    "                    current_director_id += 1\n",
    "                    \n",
    "                # Add this director-movie relationship\n",
    "                director_movie_relations.append({\n",
    "                    'director_id': director_ids[director],\n",
    "                    'director_name': director,\n",
    "                    'movie_id': movie_id\n",
    "                })\n",
    "    \n",
    "    # Create dataframes\n",
    "    directors_df = pd.DataFrame(list(set([(director_ids[name], name) for name in director_ids])), \n",
    "                           columns=['director_id', 'director_name'])\n",
    "    \n",
    "    director_movies_df = pd.DataFrame(director_movie_relations)[['director_id', 'movie_id']]\n",
    "    \n",
    "    return directors_df, director_movies_df"
   ]
  },
  {
   "cell_type": "code",
   "execution_count": null,
   "metadata": {},
   "outputs": [],
   "source": [
    "directors_df, director_movies_df = process_directors()\n",
    "director_movies_df.to_csv('director_movies.csv', index=False)\n",
    "\n",
    "directors_df.to_csv('directors.csv', index=False)\n",
    "director_movies_df.head()"
   ]
  },
  {
   "cell_type": "markdown",
   "metadata": {},
   "source": [
    "## 4. Process Keywords"
   ]
  },
  {
   "cell_type": "code",
   "execution_count": null,
   "metadata": {},
   "outputs": [],
   "source": [
    "def extract_keywords(text, max_keywords=10):\n",
    "    # Handle missing values\n",
    "    if pd.isna(text):\n",
    "        return []\n",
    "    \n",
    "    # Convert to lowercase\n",
    "    text = str(text).lower()\n",
    "    \n",
    "    # Simple word extraction using regex\n",
    "    # Find all words with at least 3 characters\n",
    "    words = re.findall(r'\\b[a-z]{3,}\\b', text)\n",
    "    \n",
    "    # Common English stopwords to filter out\n",
    "    stopwords = {'the', 'and', 'for', 'with', 'his', 'her', 'they', 'this', 'that', \n",
    "                'are', 'was', 'were', 'from', 'has', 'have', 'had', 'not', 'but', \n",
    "                'who', 'what', 'when', 'where', 'why', 'how', 'all', 'any', 'both', \n",
    "                'each', 'few', 'more', 'most', 'other', 'some', 'such', 'own', 'than', \n",
    "                'too', 'very', 'can', 'will', 'just', 'into', 'onto', 'our', 'their',\n",
    "                'about', 'after', 'before', 'between', 'over', 'under', 'again', 'further',\n",
    "                'then', 'once', 'here', 'there', 'when', 'where', 'why', 'how', 'all',\n",
    "                'any', 'both', 'each', 'few', 'more', 'most', 'some', 'such', 'only', 'own',\n",
    "                'same', 'saw', 'also', 'ever', 'who', 'which', 'well'}\n",
    "    \n",
    "    # Filter out stopwords\n",
    "    filtered_words = [word for word in words if word not in stopwords]\n",
    "    \n",
    "    # Count word frequencies\n",
    "    from collections import Counter\n",
    "    word_counts = Counter(filtered_words)\n",
    "    \n",
    "    # Get most common words as keywords\n",
    "    keywords = [word for word, _ in word_counts.most_common(max_keywords)]\n",
    "    \n",
    "    return keywords"
   ]
  },
  {
   "cell_type": "code",
   "execution_count": null,
   "metadata": {},
   "outputs": [],
   "source": [
    "def process_keywords():\n",
    "    # Create a list to hold all movie-keyword relationships\n",
    "    movie_keyword_relations = []\n",
    "    \n",
    "    # Process each movie\n",
    "    for _, movie in movies_df.iterrows():\n",
    "        movie_id = movie['movie_id']\n",
    "        \n",
    "        # Extract keywords from description\n",
    "        if pd.notna(movie['description']):\n",
    "            keywords = extract_keywords(movie['description'])\n",
    "            \n",
    "            for keyword in keywords:\n",
    "                # Add this movie-keyword relationship\n",
    "                movie_keyword_relations.append({\n",
    "                    'movie_id': movie_id,\n",
    "                    'keyword': keyword\n",
    "                })\n",
    "    \n",
    "    # Create the movie_keywords dataframe\n",
    "    if movie_keyword_relations:\n",
    "        movie_keywords_df = pd.DataFrame(movie_keyword_relations)\n",
    "    else:\n",
    "        movie_keywords_df = pd.DataFrame(columns=['movie_id', 'keyword'])\n",
    "    \n",
    "    return movie_keywords_df"
   ]
  },
  {
   "cell_type": "code",
   "execution_count": null,
   "metadata": {},
   "outputs": [],
   "source": [
    "# Generate the movie_keywords dataframe\n",
    "movie_keywords_df = process_keywords()\n",
    "\n",
    "# Save movie_keywords.csv\n",
    "movie_keywords_df.to_csv('movie_keywords.csv', index=False)\n",
    "\n",
    "print(f\"Created movie_keywords.csv with {len(movie_keywords_df)} entries\")\n",
    "\n",
    "# Display samples\n",
    "movie_keywords_df.head()"
   ]
  },
  {
   "cell_type": "markdown",
   "metadata": {},
   "source": [
    "## 5. Simple Recommendation System"
   ]
  },
  {
   "cell_type": "code",
   "execution_count": null,
   "metadata": {},
   "outputs": [],
   "source": [
    "def get_similar_movies(movie_id, top_n=5):\n",
    "    \"\"\"\n",
    "    Find similar movies based on shared genres, actors, directors, and keywords.\n",
    "    \"\"\"\n",
    "    # Get the genres for this movie\n",
    "    movie_genres = movie_genres_df[movie_genres_df['movie_id'] == movie_id]['genre_id'].tolist()\n",
    "    \n",
    "    # Get the actors for this movie\n",
    "    movie_actors = actor_movies_df[actor_movies_df['movie_id'] == movie_id]['actor_id'].tolist()\n",
    "    \n",
    "    # Get the directors for this movie\n",
    "    movie_directors = director_movies_df[director_movies_df['movie_id'] == movie_id]['director_id'].tolist()\n",
    "    \n",
    "    # Get the keywords for this movie\n",
    "    movie_kws = movie_keywords_df[movie_keywords_df['movie_id'] == movie_id]['keyword'].tolist()\n",
    "    \n",
    "    # Dictionary to store similarity scores\n",
    "    similarity_scores = defaultdict(int)\n",
    "    \n",
    "    # Find movies with the same genres\n",
    "    for genre_id in movie_genres:\n",
    "        similar_genre_movies = movie_genres_df[movie_genres_df['genre_id'] == genre_id]['movie_id'].tolist()\n",
    "        for similar_movie in similar_genre_movies:\n",
    "            if similar_movie != movie_id:  # Don't include the original movie\n",
    "                similarity_scores[similar_movie] += 2  # Weight for genre match\n",
    "    \n",
    "    # Find movies with the same actors\n",
    "    for actor_id in movie_actors:\n",
    "        similar_actor_movies = actor_movies_df[actor_movies_df['actor_id'] == actor_id]['movie_id'].tolist()\n",
    "        for similar_movie in similar_actor_movies:\n",
    "            if similar_movie != movie_id:\n",
    "                similarity_scores[similar_movie] += 3  # Weight for actor match\n",
    "    \n",
    "    # Find movies with the same directors\n",
    "    for director_id in movie_directors:\n",
    "        similar_director_movies = director_movies_df[director_movies_df['director_id'] == director_id]['movie_id'].tolist()\n",
    "        for similar_movie in similar_director_movies:\n",
    "            if similar_movie != movie_id:\n",
    "                similarity_scores[similar_movie] += 4  # Weight for director match\n",
    "    \n",
    "    # Find movies with the same keywords\n",
    "    for keyword in movie_kws:\n",
    "        similar_keyword_movies = movie_keywords_df[movie_keywords_df['keyword'] == keyword]['movie_id'].tolist()\n",
    "        for similar_movie in similar_keyword_movies:\n",
    "            if similar_movie != movie_id:\n",
    "                similarity_scores[similar_movie] += 1  # Weight for keyword match\n",
    "    \n",
    "    # Sort by similarity score\n",
    "    similar_movies = sorted(similarity_scores.items(), key=lambda x: x[1], reverse=True)[:top_n]\n",
    "    \n",
    "    # Get the movie details\n",
    "    recommended_movies = []\n",
    "    for similar_movie_id, score in similar_movies:\n",
    "        try:\n",
    "            movie_details = movies_df[movies_df['movie_id'] == similar_movie_id].iloc[0]\n",
    "            recommended_movies.append({\n",
    "                'movie_id': similar_movie_id,\n",
    "                'movie_name': movie_details['movie_name'],\n",
    "                'similarity_score': score\n",
    "            })\n",
    "        except IndexError:\n",
    "            # Skip if movie details not found\n",
    "            continue\n",
    "    \n",
    "    return recommended_movies"
   ]
  },
  {
   "cell_type": "code",
   "execution_count": null,
   "metadata": {},
   "outputs": [],
   "source": [
    "# Example usage - test with a sample movie\n",
    "if len(movies_df) > 0:\n",
    "    test_movie_id = movies_df.iloc[0]['movie_id']  # Using the first movie in the dataset\n",
    "    test_movie_name = movies_df.iloc[0]['movie_name']\n",
    "    \n",
    "    print(f\"Finding movies similar to: {test_movie_name} ({test_movie_id})\")\n",
    "    recommendations = get_similar_movies(test_movie_id)\n",
    "    \n",
    "    print(\"\\nRecommended Movies:\")\n",
    "    for i, movie in enumerate(recommendations, 1):\n",
    "        print(f\"{i}. {movie['movie_name']} (Score: {movie['similarity_score']})\")"
   ]
  },
  {
   "cell_type": "markdown",
   "metadata": {},
   "source": [
    "## Summary\n",
    "\n",
    "This notebook has created the following files for our movie recommendation website:\n",
    "\n",
    "1. **actor_movies.csv**: Links actors to movies\n",
    "2. **actors.csv**: List of all actors with IDs\n",
    "3. **genres.csv**: List of all genres with IDs\n",
    "4. **movie_genres.csv**: Maps movies to genres\n",
    "5. **director_movies.csv**: Maps directors to movies\n",
    "6. **directors.csv**: List of all directors with IDs\n",
    "7. **movie_keywords.csv**: Keywords extracted from movie descriptions\n",
    "\n",
    "These files provide the foundation for our movie recommendation system."
   ]
  }
 ],
 "metadata": {
  "kernelspec": {
   "display_name": "Python 3",
   "language": "python",
   "name": "python3"
  },
  "language_info": {
   "codemirror_mode": {
    "name": "ipython",
    "version": 3
   },
   "file_extension": ".py",
   "mimetype": "text/x-python",
   "name": "python",
   "nbconvert_exporter": "python",
   "pygments_lexer": "ipython3",
   "version": "3.8.10"
  }
 },
 "nbformat": 4,
 "nbformat_minor": 4
}
